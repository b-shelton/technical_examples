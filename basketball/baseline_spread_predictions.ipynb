{
 "cells": [
  {
   "cell_type": "code",
   "execution_count": 149,
   "metadata": {},
   "outputs": [],
   "source": [
    "import os\n",
    "import numpy as np\n",
    "import pandas as pd\n",
    "import glob\n",
    "import matplotlib.pyplot as plt\n",
    "import seaborn as sns\n",
    "import pandas_profiling\n",
    "import re\n",
    "from datetime import date\n",
    "import sys\n",
    "import datetime as dt\n",
    "\n",
    "local_tmp = 'tmp'"
   ]
  },
  {
   "cell_type": "code",
   "execution_count": 123,
   "metadata": {},
   "outputs": [
    {
     "name": "stdout",
     "output_type": "stream",
     "text": [
      "(7258, 13)\n",
      "Index(['game_id', 'season_type', 'start_date', 'venue_id', 'attendance',\n",
      "       'completed', 'conference_comp', 'neutral_site', 'broadcast_market',\n",
      "       'broadcast_network', 'pbp_link', 'boxscore_link', 'date'],\n",
      "      dtype='object')\n",
      "2014-10-29 00:00:00\n",
      "2020-10-11 00:00:00\n"
     ]
    }
   ],
   "source": [
    "# read the games from S3\n",
    "os.system(f'mkdir {local_tmp}')\n",
    "os.system(f'aws s3 sync s3://b-shelton-sports/nba/games {local_tmp}')\n",
    "games = pd.concat(map(pd.read_csv, glob.glob(f'{local_tmp}/*.gz')))\n",
    "os.system(f'rm -r {local_tmp}')\n",
    "\n",
    "# convert start_date to date format\n",
    "games['start_date'] = pd.to_datetime(games['start_date'].astype('str').str.split(\"T\").str[0])\n",
    "\n",
    "print(games.shape)\n",
    "print(games.columns)\n",
    "print(games.start_date.min())\n",
    "print(games.start_date.max())"
   ]
  },
  {
   "cell_type": "code",
   "execution_count": 124,
   "metadata": {},
   "outputs": [
    {
     "data": {
      "text/html": [
       "<div>\n",
       "<style scoped>\n",
       "    .dataframe tbody tr th:only-of-type {\n",
       "        vertical-align: middle;\n",
       "    }\n",
       "\n",
       "    .dataframe tbody tr th {\n",
       "        vertical-align: top;\n",
       "    }\n",
       "\n",
       "    .dataframe thead th {\n",
       "        text-align: right;\n",
       "    }\n",
       "</style>\n",
       "<table border=\"1\" class=\"dataframe\">\n",
       "  <thead>\n",
       "    <tr style=\"text-align: right;\">\n",
       "      <th></th>\n",
       "      <th>game_id</th>\n",
       "      <th>season_type</th>\n",
       "      <th>start_date</th>\n",
       "      <th>venue_id</th>\n",
       "      <th>attendance</th>\n",
       "      <th>completed</th>\n",
       "      <th>conference_comp</th>\n",
       "      <th>neutral_site</th>\n",
       "      <th>broadcast_market</th>\n",
       "      <th>broadcast_network</th>\n",
       "      <th>pbp_link</th>\n",
       "      <th>boxscore_link</th>\n",
       "      <th>date</th>\n",
       "    </tr>\n",
       "  </thead>\n",
       "  <tbody>\n",
       "    <tr>\n",
       "      <th>0</th>\n",
       "      <td>401160877</td>\n",
       "      <td>2</td>\n",
       "      <td>2019-11-24</td>\n",
       "      <td>1394</td>\n",
       "      <td>18055</td>\n",
       "      <td>True</td>\n",
       "      <td>False</td>\n",
       "      <td>False</td>\n",
       "      <td>away</td>\n",
       "      <td>FSSW</td>\n",
       "      <td>http://www.espn.com/nba/playbyplay?gameId=4011...</td>\n",
       "      <td>http://www.espn.com/nba/boxscore?gameId=401160877</td>\n",
       "      <td>2019-11-24T20:30Z</td>\n",
       "    </tr>\n",
       "    <tr>\n",
       "      <th>1</th>\n",
       "      <td>401160878</td>\n",
       "      <td>2</td>\n",
       "      <td>2019-11-24</td>\n",
       "      <td>1830</td>\n",
       "      <td>18770</td>\n",
       "      <td>True</td>\n",
       "      <td>False</td>\n",
       "      <td>False</td>\n",
       "      <td>away</td>\n",
       "      <td>YES</td>\n",
       "      <td>http://www.espn.com/nba/playbyplay?gameId=4011...</td>\n",
       "      <td>http://www.espn.com/nba/boxscore?gameId=401160878</td>\n",
       "      <td>2019-11-24T23:00Z</td>\n",
       "    </tr>\n",
       "    <tr>\n",
       "      <th>2</th>\n",
       "      <td>401160879</td>\n",
       "      <td>2</td>\n",
       "      <td>2019-11-24</td>\n",
       "      <td>1823</td>\n",
       "      <td>15885</td>\n",
       "      <td>True</td>\n",
       "      <td>False</td>\n",
       "      <td>False</td>\n",
       "      <td>away</td>\n",
       "      <td>CSAC</td>\n",
       "      <td>http://www.espn.com/nba/playbyplay?gameId=4011...</td>\n",
       "      <td>http://www.espn.com/nba/boxscore?gameId=401160879</td>\n",
       "      <td>2019-11-24T23:00Z</td>\n",
       "    </tr>\n",
       "    <tr>\n",
       "      <th>3</th>\n",
       "      <td>401160880</td>\n",
       "      <td>2</td>\n",
       "      <td>2019-11-25</td>\n",
       "      <td>892</td>\n",
       "      <td>19520</td>\n",
       "      <td>True</td>\n",
       "      <td>False</td>\n",
       "      <td>False</td>\n",
       "      <td>home</td>\n",
       "      <td>ALT</td>\n",
       "      <td>http://www.espn.com/nba/playbyplay?gameId=4011...</td>\n",
       "      <td>http://www.espn.com/nba/boxscore?gameId=401160880</td>\n",
       "      <td>2019-11-25T01:00Z</td>\n",
       "    </tr>\n",
       "    <tr>\n",
       "      <th>4</th>\n",
       "      <td>401160881</td>\n",
       "      <td>2</td>\n",
       "      <td>2019-11-25</td>\n",
       "      <td>1841</td>\n",
       "      <td>19068</td>\n",
       "      <td>True</td>\n",
       "      <td>False</td>\n",
       "      <td>False</td>\n",
       "      <td>away</td>\n",
       "      <td>FSN</td>\n",
       "      <td>http://www.espn.com/nba/playbyplay?gameId=4011...</td>\n",
       "      <td>http://www.espn.com/nba/boxscore?gameId=401160881</td>\n",
       "      <td>2019-11-25T02:00Z</td>\n",
       "    </tr>\n",
       "  </tbody>\n",
       "</table>\n",
       "</div>"
      ],
      "text/plain": [
       "     game_id season_type start_date venue_id attendance completed  \\\n",
       "0  401160877           2 2019-11-24     1394      18055      True   \n",
       "1  401160878           2 2019-11-24     1830      18770      True   \n",
       "2  401160879           2 2019-11-24     1823      15885      True   \n",
       "3  401160880           2 2019-11-25      892      19520      True   \n",
       "4  401160881           2 2019-11-25     1841      19068      True   \n",
       "\n",
       "  conference_comp neutral_site broadcast_market broadcast_network  \\\n",
       "0           False        False             away              FSSW   \n",
       "1           False        False             away               YES   \n",
       "2           False        False             away              CSAC   \n",
       "3           False        False             home               ALT   \n",
       "4           False        False             away               FSN   \n",
       "\n",
       "                                            pbp_link  \\\n",
       "0  http://www.espn.com/nba/playbyplay?gameId=4011...   \n",
       "1  http://www.espn.com/nba/playbyplay?gameId=4011...   \n",
       "2  http://www.espn.com/nba/playbyplay?gameId=4011...   \n",
       "3  http://www.espn.com/nba/playbyplay?gameId=4011...   \n",
       "4  http://www.espn.com/nba/playbyplay?gameId=4011...   \n",
       "\n",
       "                                       boxscore_link               date  \n",
       "0  http://www.espn.com/nba/boxscore?gameId=401160877  2019-11-24T20:30Z  \n",
       "1  http://www.espn.com/nba/boxscore?gameId=401160878  2019-11-24T23:00Z  \n",
       "2  http://www.espn.com/nba/boxscore?gameId=401160879  2019-11-24T23:00Z  \n",
       "3  http://www.espn.com/nba/boxscore?gameId=401160880  2019-11-25T01:00Z  \n",
       "4  http://www.espn.com/nba/boxscore?gameId=401160881  2019-11-25T02:00Z  "
      ]
     },
     "execution_count": 124,
     "metadata": {},
     "output_type": "execute_result"
    }
   ],
   "source": [
    "games.head()"
   ]
  },
  {
   "cell_type": "code",
   "execution_count": 125,
   "metadata": {},
   "outputs": [
    {
     "data": {
      "text/plain": [
       "(14668, 11)"
      ]
     },
     "execution_count": 125,
     "metadata": {},
     "output_type": "execute_result"
    }
   ],
   "source": [
    "# read the opponents from S3\n",
    "os.system(f'mkdir {local_tmp}')\n",
    "os.system(f'aws s3 sync s3://b-shelton-sports/nba/opponents {local_tmp}')\n",
    "opp = pd.concat(map(pd.read_csv, glob.glob(f'{local_tmp}/*.gz')))\n",
    "os.system(f'rm -r {local_tmp}')\n",
    "opp.shape"
   ]
  },
  {
   "cell_type": "code",
   "execution_count": 126,
   "metadata": {},
   "outputs": [
    {
     "data": {
      "text/html": [
       "<div>\n",
       "<style scoped>\n",
       "    .dataframe tbody tr th:only-of-type {\n",
       "        vertical-align: middle;\n",
       "    }\n",
       "\n",
       "    .dataframe tbody tr th {\n",
       "        vertical-align: top;\n",
       "    }\n",
       "\n",
       "    .dataframe thead th {\n",
       "        text-align: right;\n",
       "    }\n",
       "</style>\n",
       "<table border=\"1\" class=\"dataframe\">\n",
       "  <thead>\n",
       "    <tr style=\"text-align: right;\">\n",
       "      <th></th>\n",
       "      <th>game_id</th>\n",
       "      <th>team_id</th>\n",
       "      <th>team</th>\n",
       "      <th>team_abbr</th>\n",
       "      <th>home_away</th>\n",
       "      <th>winner</th>\n",
       "      <th>final_points</th>\n",
       "      <th>q1_points</th>\n",
       "      <th>q2_points</th>\n",
       "      <th>q3_points</th>\n",
       "      <th>q4_points</th>\n",
       "    </tr>\n",
       "  </thead>\n",
       "  <tbody>\n",
       "    <tr>\n",
       "      <th>0</th>\n",
       "      <td>400974929</td>\n",
       "      <td>3</td>\n",
       "      <td>Pelicans</td>\n",
       "      <td>NO</td>\n",
       "      <td>home</td>\n",
       "      <td>True</td>\n",
       "      <td>111</td>\n",
       "      <td>31.0</td>\n",
       "      <td>32.0</td>\n",
       "      <td>25.0</td>\n",
       "      <td>23.0</td>\n",
       "    </tr>\n",
       "    <tr>\n",
       "      <th>1</th>\n",
       "      <td>400974929</td>\n",
       "      <td>12</td>\n",
       "      <td>Clippers</td>\n",
       "      <td>LAC</td>\n",
       "      <td>away</td>\n",
       "      <td>False</td>\n",
       "      <td>103</td>\n",
       "      <td>26.0</td>\n",
       "      <td>32.0</td>\n",
       "      <td>24.0</td>\n",
       "      <td>21.0</td>\n",
       "    </tr>\n",
       "    <tr>\n",
       "      <th>2</th>\n",
       "      <td>400974928</td>\n",
       "      <td>27</td>\n",
       "      <td>Wizards</td>\n",
       "      <td>WSH</td>\n",
       "      <td>home</td>\n",
       "      <td>True</td>\n",
       "      <td>113</td>\n",
       "      <td>20.0</td>\n",
       "      <td>29.0</td>\n",
       "      <td>27.0</td>\n",
       "      <td>37.0</td>\n",
       "    </tr>\n",
       "    <tr>\n",
       "      <th>3</th>\n",
       "      <td>400974928</td>\n",
       "      <td>1</td>\n",
       "      <td>Hawks</td>\n",
       "      <td>ATL</td>\n",
       "      <td>away</td>\n",
       "      <td>False</td>\n",
       "      <td>94</td>\n",
       "      <td>19.0</td>\n",
       "      <td>23.0</td>\n",
       "      <td>25.0</td>\n",
       "      <td>27.0</td>\n",
       "    </tr>\n",
       "    <tr>\n",
       "      <th>4</th>\n",
       "      <td>400974931</td>\n",
       "      <td>10</td>\n",
       "      <td>Rockets</td>\n",
       "      <td>HOU</td>\n",
       "      <td>home</td>\n",
       "      <td>True</td>\n",
       "      <td>111</td>\n",
       "      <td>33.0</td>\n",
       "      <td>29.0</td>\n",
       "      <td>31.0</td>\n",
       "      <td>18.0</td>\n",
       "    </tr>\n",
       "  </tbody>\n",
       "</table>\n",
       "</div>"
      ],
      "text/plain": [
       "     game_id team_id      team team_abbr home_away winner final_points  \\\n",
       "0  400974929       3  Pelicans        NO      home   True          111   \n",
       "1  400974929      12  Clippers       LAC      away  False          103   \n",
       "2  400974928      27   Wizards       WSH      home   True          113   \n",
       "3  400974928       1     Hawks       ATL      away  False           94   \n",
       "4  400974931      10   Rockets       HOU      home   True          111   \n",
       "\n",
       "   q1_points  q2_points  q3_points  q4_points  \n",
       "0       31.0       32.0       25.0       23.0  \n",
       "1       26.0       32.0       24.0       21.0  \n",
       "2       20.0       29.0       27.0       37.0  \n",
       "3       19.0       23.0       25.0       27.0  \n",
       "4       33.0       29.0       31.0       18.0  "
      ]
     },
     "execution_count": 126,
     "metadata": {},
     "output_type": "execute_result"
    }
   ],
   "source": [
    "opp.head()"
   ]
  },
  {
   "cell_type": "code",
   "execution_count": 127,
   "metadata": {},
   "outputs": [
    {
     "data": {
      "text/plain": [
       "(186815, 19)"
      ]
     },
     "execution_count": 127,
     "metadata": {},
     "output_type": "execute_result"
    }
   ],
   "source": [
    "# read the box scores from S3\n",
    "os.system(f'mkdir {local_tmp}')\n",
    "os.system(f'aws s3 sync s3://b-shelton-sports/nba/boxscores {local_tmp}')\n",
    "box = pd.concat(map(pd.read_csv, glob.glob(f'{local_tmp}/*.gz')))\n",
    "os.system(f'rm -r {local_tmp}')\n",
    "box.shape"
   ]
  },
  {
   "cell_type": "code",
   "execution_count": 128,
   "metadata": {},
   "outputs": [
    {
     "data": {
      "text/html": [
       "<div>\n",
       "<style scoped>\n",
       "    .dataframe tbody tr th:only-of-type {\n",
       "        vertical-align: middle;\n",
       "    }\n",
       "\n",
       "    .dataframe tbody tr th {\n",
       "        vertical-align: top;\n",
       "    }\n",
       "\n",
       "    .dataframe thead th {\n",
       "        text-align: right;\n",
       "    }\n",
       "</style>\n",
       "<table border=\"1\" class=\"dataframe\">\n",
       "  <thead>\n",
       "    <tr style=\"text-align: right;\">\n",
       "      <th></th>\n",
       "      <th>game_id</th>\n",
       "      <th>team</th>\n",
       "      <th>player_uid</th>\n",
       "      <th>player_name</th>\n",
       "      <th>player_pos</th>\n",
       "      <th>min</th>\n",
       "      <th>fg</th>\n",
       "      <th>three_pt</th>\n",
       "      <th>ft</th>\n",
       "      <th>oreb</th>\n",
       "      <th>dreb</th>\n",
       "      <th>reb</th>\n",
       "      <th>ast</th>\n",
       "      <th>stl</th>\n",
       "      <th>blk</th>\n",
       "      <th>to</th>\n",
       "      <th>pf</th>\n",
       "      <th>plusminus</th>\n",
       "      <th>pts</th>\n",
       "    </tr>\n",
       "  </thead>\n",
       "  <tbody>\n",
       "    <tr>\n",
       "      <th>0</th>\n",
       "      <td>401161499</td>\n",
       "      <td>Hornets</td>\n",
       "      <td>s:40~l:46~a:4278078</td>\n",
       "      <td>P. Washington</td>\n",
       "      <td>PF</td>\n",
       "      <td>25</td>\n",
       "      <td>3-9</td>\n",
       "      <td>3-6</td>\n",
       "      <td>0-2</td>\n",
       "      <td>2</td>\n",
       "      <td>1</td>\n",
       "      <td>3</td>\n",
       "      <td>2</td>\n",
       "      <td>0</td>\n",
       "      <td>0</td>\n",
       "      <td>2</td>\n",
       "      <td>1</td>\n",
       "      <td>-33</td>\n",
       "      <td>NaN</td>\n",
       "    </tr>\n",
       "    <tr>\n",
       "      <th>1</th>\n",
       "      <td>401161499</td>\n",
       "      <td>Hornets</td>\n",
       "      <td>s:40~l:46~a:4066383</td>\n",
       "      <td>M. Bridges</td>\n",
       "      <td>SF</td>\n",
       "      <td>26</td>\n",
       "      <td>7-16</td>\n",
       "      <td>2-6</td>\n",
       "      <td>1-1</td>\n",
       "      <td>1</td>\n",
       "      <td>5</td>\n",
       "      <td>6</td>\n",
       "      <td>1</td>\n",
       "      <td>1</td>\n",
       "      <td>0</td>\n",
       "      <td>0</td>\n",
       "      <td>0</td>\n",
       "      <td>-23</td>\n",
       "      <td>NaN</td>\n",
       "    </tr>\n",
       "    <tr>\n",
       "      <th>2</th>\n",
       "      <td>401161499</td>\n",
       "      <td>Hornets</td>\n",
       "      <td>s:40~l:46~a:2579258</td>\n",
       "      <td>C. Zeller</td>\n",
       "      <td>C</td>\n",
       "      <td>24</td>\n",
       "      <td>4-9</td>\n",
       "      <td>0-1</td>\n",
       "      <td>1-4</td>\n",
       "      <td>2</td>\n",
       "      <td>2</td>\n",
       "      <td>4</td>\n",
       "      <td>2</td>\n",
       "      <td>1</td>\n",
       "      <td>0</td>\n",
       "      <td>1</td>\n",
       "      <td>1</td>\n",
       "      <td>-27</td>\n",
       "      <td>NaN</td>\n",
       "    </tr>\n",
       "    <tr>\n",
       "      <th>3</th>\n",
       "      <td>401161499</td>\n",
       "      <td>Hornets</td>\n",
       "      <td>s:40~l:46~a:3074752</td>\n",
       "      <td>T. Rozier</td>\n",
       "      <td>PG</td>\n",
       "      <td>26</td>\n",
       "      <td>2-13</td>\n",
       "      <td>1-4</td>\n",
       "      <td>0-0</td>\n",
       "      <td>0</td>\n",
       "      <td>3</td>\n",
       "      <td>3</td>\n",
       "      <td>7</td>\n",
       "      <td>0</td>\n",
       "      <td>0</td>\n",
       "      <td>1</td>\n",
       "      <td>0</td>\n",
       "      <td>-27</td>\n",
       "      <td>NaN</td>\n",
       "    </tr>\n",
       "    <tr>\n",
       "      <th>4</th>\n",
       "      <td>401161499</td>\n",
       "      <td>Hornets</td>\n",
       "      <td>s:40~l:46~a:4066262</td>\n",
       "      <td>M. Monk</td>\n",
       "      <td>SG</td>\n",
       "      <td>27</td>\n",
       "      <td>4-13</td>\n",
       "      <td>0-4</td>\n",
       "      <td>0-0</td>\n",
       "      <td>1</td>\n",
       "      <td>0</td>\n",
       "      <td>1</td>\n",
       "      <td>3</td>\n",
       "      <td>1</td>\n",
       "      <td>0</td>\n",
       "      <td>0</td>\n",
       "      <td>2</td>\n",
       "      <td>-33</td>\n",
       "      <td>NaN</td>\n",
       "    </tr>\n",
       "  </tbody>\n",
       "</table>\n",
       "</div>"
      ],
      "text/plain": [
       "     game_id     team           player_uid    player_name player_pos min  \\\n",
       "0  401161499  Hornets  s:40~l:46~a:4278078  P. Washington         PF  25   \n",
       "1  401161499  Hornets  s:40~l:46~a:4066383     M. Bridges         SF  26   \n",
       "2  401161499  Hornets  s:40~l:46~a:2579258      C. Zeller          C  24   \n",
       "3  401161499  Hornets  s:40~l:46~a:3074752      T. Rozier         PG  26   \n",
       "4  401161499  Hornets  s:40~l:46~a:4066262        M. Monk         SG  27   \n",
       "\n",
       "     fg three_pt   ft oreb dreb reb ast stl blk to pf plusminus  pts  \n",
       "0   3-9      3-6  0-2    2    1   3   2   0   0  2  1       -33  NaN  \n",
       "1  7-16      2-6  1-1    1    5   6   1   1   0  0  0       -23  NaN  \n",
       "2   4-9      0-1  1-4    2    2   4   2   1   0  1  1       -27  NaN  \n",
       "3  2-13      1-4  0-0    0    3   3   7   0   0  1  0       -27  NaN  \n",
       "4  4-13      0-4  0-0    1    0   1   3   1   0  0  2       -33  NaN  "
      ]
     },
     "execution_count": 128,
     "metadata": {},
     "output_type": "execute_result"
    }
   ],
   "source": [
    "box.head()"
   ]
  },
  {
   "cell_type": "code",
   "execution_count": 129,
   "metadata": {},
   "outputs": [
    {
     "data": {
      "text/plain": [
       "'Games removed because they involve a team other than one of the 30 NBA teams: 15'"
      ]
     },
     "metadata": {},
     "output_type": "display_data"
    }
   ],
   "source": [
    "# Get rid of games not involving one of the 30 NBA teams\n",
    "removals = opp[~opp['team_id'].isin(np.arange(1, 31))]\n",
    "remove_games = removals['game_id'].unique()\n",
    "games = games[~games['game_id'].isin(remove_games)]\n",
    "opp = opp[~opp['game_id'].isin(remove_games)]\n",
    "box = box[~box['game_id'].isin(remove_games)]\n",
    "display(f'Games removed because they involve a team other than one of the 30 NBA teams: {remove_games.shape[0]}')\n",
    "#remaining teams\n",
    "opp.groupby(['team_id','team']).size().reset_index()\n",
    "\n",
    "# Keep only completed games\n",
    "games = games[games['completed'] == True]\n",
    "# Get rid of unnecessary fields\n",
    "games = games.drop(['pbp_link', 'boxscore_link'], axis = 1)"
   ]
  },
  {
   "cell_type": "code",
   "execution_count": 130,
   "metadata": {},
   "outputs": [
    {
     "data": {
      "text/html": [
       "<div>\n",
       "<style scoped>\n",
       "    .dataframe tbody tr th:only-of-type {\n",
       "        vertical-align: middle;\n",
       "    }\n",
       "\n",
       "    .dataframe tbody tr th {\n",
       "        vertical-align: top;\n",
       "    }\n",
       "\n",
       "    .dataframe thead th {\n",
       "        text-align: right;\n",
       "    }\n",
       "</style>\n",
       "<table border=\"1\" class=\"dataframe\">\n",
       "  <thead>\n",
       "    <tr style=\"text-align: right;\">\n",
       "      <th></th>\n",
       "      <th>pts</th>\n",
       "      <th>game_id</th>\n",
       "    </tr>\n",
       "  </thead>\n",
       "  <tbody>\n",
       "    <tr>\n",
       "      <th>0</th>\n",
       "      <td>0</td>\n",
       "      <td>39448</td>\n",
       "    </tr>\n",
       "    <tr>\n",
       "      <th>2</th>\n",
       "      <td>2</td>\n",
       "      <td>9991</td>\n",
       "    </tr>\n",
       "    <tr>\n",
       "      <th>4</th>\n",
       "      <td>4</td>\n",
       "      <td>7871</td>\n",
       "    </tr>\n",
       "    <tr>\n",
       "      <th>6</th>\n",
       "      <td>6</td>\n",
       "      <td>7804</td>\n",
       "    </tr>\n",
       "    <tr>\n",
       "      <th>8</th>\n",
       "      <td>8</td>\n",
       "      <td>7054</td>\n",
       "    </tr>\n",
       "    <tr>\n",
       "      <th>5</th>\n",
       "      <td>5</td>\n",
       "      <td>6243</td>\n",
       "    </tr>\n",
       "    <tr>\n",
       "      <th>10</th>\n",
       "      <td>10</td>\n",
       "      <td>6180</td>\n",
       "    </tr>\n",
       "    <tr>\n",
       "      <th>3</th>\n",
       "      <td>3</td>\n",
       "      <td>5754</td>\n",
       "    </tr>\n",
       "    <tr>\n",
       "      <th>7</th>\n",
       "      <td>7</td>\n",
       "      <td>5742</td>\n",
       "    </tr>\n",
       "    <tr>\n",
       "      <th>9</th>\n",
       "      <td>9</td>\n",
       "      <td>5646</td>\n",
       "    </tr>\n",
       "  </tbody>\n",
       "</table>\n",
       "</div>"
      ],
      "text/plain": [
       "   pts  game_id\n",
       "0    0    39448\n",
       "2    2     9991\n",
       "4    4     7871\n",
       "6    6     7804\n",
       "8    8     7054\n",
       "5    5     6243\n",
       "10  10     6180\n",
       "3    3     5754\n",
       "7    7     5742\n",
       "9    9     5646"
      ]
     },
     "execution_count": 130,
     "metadata": {},
     "output_type": "execute_result"
    }
   ],
   "source": [
    "box.groupby('pts').game_id.count().reset_index().sort_values('game_id', ascending = False).head(10)"
   ]
  },
  {
   "cell_type": "code",
   "execution_count": 131,
   "metadata": {},
   "outputs": [
    {
     "data": {
      "text/plain": [
       "nan"
      ]
     },
     "execution_count": 131,
     "metadata": {},
     "output_type": "execute_result"
    }
   ],
   "source": [
    "box.iloc[0]['pts']"
   ]
  },
  {
   "cell_type": "code",
   "execution_count": 132,
   "metadata": {},
   "outputs": [
    {
     "name": "stdout",
     "output_type": "stream",
     "text": [
      "13831\n",
      "0.07420940239727865\n"
     ]
    }
   ],
   "source": [
    "# find out how many player records have a null pts value\n",
    "print(box[box['pts'].isnull()].shape[0])\n",
    "print(box[box['pts'].isnull()].shape[0] / box.shape[0])"
   ]
  },
  {
   "cell_type": "code",
   "execution_count": 133,
   "metadata": {},
   "outputs": [
    {
     "data": {
      "text/plain": [
       "season_type\n",
       "1       1\n",
       "2    6825\n",
       "3     414\n",
       "5       1\n",
       "Name: game_id, dtype: int64"
      ]
     },
     "execution_count": 133,
     "metadata": {},
     "output_type": "execute_result"
    }
   ],
   "source": [
    "# see the split of the different game types\n",
    "# season_type == 2 is the regular season\n",
    "games.groupby('season_type')['game_id'].count()"
   ]
  },
  {
   "cell_type": "code",
   "execution_count": 134,
   "metadata": {},
   "outputs": [
    {
     "name": "stdout",
     "output_type": "stream",
     "text": [
      "(6825, 11)\n",
      "(13650, 11)\n"
     ]
    }
   ],
   "source": [
    "reg_games = games[games['season_type'] == 2].reset_index(drop = True)\n",
    "reg_opp = opp[opp['game_id'].isin(reg_games['game_id'].tolist())].reset_index(drop = True)\n",
    "print(reg_games.shape)\n",
    "print(reg_opp.shape)"
   ]
  },
  {
   "cell_type": "code",
   "execution_count": 135,
   "metadata": {},
   "outputs": [
    {
     "name": "stdout",
     "output_type": "stream",
     "text": [
      "0.5\n",
      "0.5\n"
     ]
    }
   ],
   "source": [
    "# make sure that every regular season game has a home team and away team\n",
    "print(reg_opp[reg_opp['home_away'] == 'home'].shape[0] / reg_opp.shape[0])\n",
    "print(reg_opp[reg_opp['home_away'] == 'away'].shape[0] / reg_opp.shape[0])"
   ]
  },
  {
   "cell_type": "code",
   "execution_count": 173,
   "metadata": {},
   "outputs": [
    {
     "data": {
      "text/html": [
       "<div>\n",
       "<style scoped>\n",
       "    .dataframe tbody tr th:only-of-type {\n",
       "        vertical-align: middle;\n",
       "    }\n",
       "\n",
       "    .dataframe tbody tr th {\n",
       "        vertical-align: top;\n",
       "    }\n",
       "\n",
       "    .dataframe thead th {\n",
       "        text-align: right;\n",
       "    }\n",
       "</style>\n",
       "<table border=\"1\" class=\"dataframe\">\n",
       "  <thead>\n",
       "    <tr style=\"text-align: right;\">\n",
       "      <th></th>\n",
       "      <th>game_id</th>\n",
       "      <th>away_pts</th>\n",
       "      <th>home_pts</th>\n",
       "      <th>spread</th>\n",
       "      <th>away_team</th>\n",
       "      <th>home_team</th>\n",
       "      <th>season_type</th>\n",
       "      <th>start_date</th>\n",
       "      <th>venue_id</th>\n",
       "      <th>attendance</th>\n",
       "      <th>completed</th>\n",
       "      <th>conference_comp</th>\n",
       "      <th>neutral_site</th>\n",
       "      <th>broadcast_market</th>\n",
       "      <th>broadcast_network</th>\n",
       "      <th>date</th>\n",
       "    </tr>\n",
       "  </thead>\n",
       "  <tbody>\n",
       "    <tr>\n",
       "      <th>0</th>\n",
       "      <td>400578293</td>\n",
       "      <td>84</td>\n",
       "      <td>101</td>\n",
       "      <td>17</td>\n",
       "      <td>ORL</td>\n",
       "      <td>NO</td>\n",
       "      <td>2</td>\n",
       "      <td>2014-10-29</td>\n",
       "      <td>985</td>\n",
       "      <td>17097</td>\n",
       "      <td>True</td>\n",
       "      <td>False</td>\n",
       "      <td>False</td>\n",
       "      <td>home</td>\n",
       "      <td>FSN</td>\n",
       "      <td>2014-10-29T00:00Z</td>\n",
       "    </tr>\n",
       "    <tr>\n",
       "      <th>1</th>\n",
       "      <td>400578294</td>\n",
       "      <td>100</td>\n",
       "      <td>101</td>\n",
       "      <td>1</td>\n",
       "      <td>DAL</td>\n",
       "      <td>SA</td>\n",
       "      <td>2</td>\n",
       "      <td>2014-10-29</td>\n",
       "      <td>780</td>\n",
       "      <td>19615</td>\n",
       "      <td>True</td>\n",
       "      <td>False</td>\n",
       "      <td>False</td>\n",
       "      <td>national</td>\n",
       "      <td>TNT</td>\n",
       "      <td>2014-10-29T00:00Z</td>\n",
       "    </tr>\n",
       "    <tr>\n",
       "      <th>2</th>\n",
       "      <td>400578295</td>\n",
       "      <td>108</td>\n",
       "      <td>90</td>\n",
       "      <td>-18</td>\n",
       "      <td>HOU</td>\n",
       "      <td>LAL</td>\n",
       "      <td>2</td>\n",
       "      <td>2014-10-29</td>\n",
       "      <td>1841</td>\n",
       "      <td>18997</td>\n",
       "      <td>True</td>\n",
       "      <td>False</td>\n",
       "      <td>False</td>\n",
       "      <td>national</td>\n",
       "      <td>TNT</td>\n",
       "      <td>2014-10-29T02:30Z</td>\n",
       "    </tr>\n",
       "    <tr>\n",
       "      <th>3</th>\n",
       "      <td>400578296</td>\n",
       "      <td>106</td>\n",
       "      <td>108</td>\n",
       "      <td>2</td>\n",
       "      <td>MIL</td>\n",
       "      <td>CHA</td>\n",
       "      <td>2</td>\n",
       "      <td>2014-10-29</td>\n",
       "      <td>1893</td>\n",
       "      <td>19439</td>\n",
       "      <td>True</td>\n",
       "      <td>False</td>\n",
       "      <td>False</td>\n",
       "      <td>away</td>\n",
       "      <td>FSWI</td>\n",
       "      <td>2014-10-29T23:00Z</td>\n",
       "    </tr>\n",
       "    <tr>\n",
       "      <th>4</th>\n",
       "      <td>400578297</td>\n",
       "      <td>91</td>\n",
       "      <td>103</td>\n",
       "      <td>12</td>\n",
       "      <td>PHI</td>\n",
       "      <td>IND</td>\n",
       "      <td>2</td>\n",
       "      <td>2014-10-29</td>\n",
       "      <td>2183</td>\n",
       "      <td>18165</td>\n",
       "      <td>True</td>\n",
       "      <td>False</td>\n",
       "      <td>False</td>\n",
       "      <td>home</td>\n",
       "      <td>FSMW</td>\n",
       "      <td>2014-10-29T23:00Z</td>\n",
       "    </tr>\n",
       "  </tbody>\n",
       "</table>\n",
       "</div>"
      ],
      "text/plain": [
       "     game_id  away_pts  home_pts  spread away_team home_team season_type  \\\n",
       "0  400578293        84       101      17       ORL        NO           2   \n",
       "1  400578294       100       101       1       DAL        SA           2   \n",
       "2  400578295       108        90     -18       HOU       LAL           2   \n",
       "3  400578296       106       108       2       MIL       CHA           2   \n",
       "4  400578297        91       103      12       PHI       IND           2   \n",
       "\n",
       "  start_date venue_id attendance completed conference_comp neutral_site  \\\n",
       "0 2014-10-29      985      17097      True           False        False   \n",
       "1 2014-10-29      780      19615      True           False        False   \n",
       "2 2014-10-29     1841      18997      True           False        False   \n",
       "3 2014-10-29     1893      19439      True           False        False   \n",
       "4 2014-10-29     2183      18165      True           False        False   \n",
       "\n",
       "  broadcast_market broadcast_network               date  \n",
       "0             home               FSN  2014-10-29T00:00Z  \n",
       "1         national               TNT  2014-10-29T00:00Z  \n",
       "2         national               TNT  2014-10-29T02:30Z  \n",
       "3             away              FSWI  2014-10-29T23:00Z  \n",
       "4             home              FSMW  2014-10-29T23:00Z  "
      ]
     },
     "execution_count": 173,
     "metadata": {},
     "output_type": "execute_result"
    }
   ],
   "source": [
    "# cast the home and away points against each other then create final points spread\n",
    "reg_opp['final_points'] = pd.to_numeric(reg_opp['final_points'])\n",
    "reg_opp2 = reg_opp.pivot_table(index = ['game_id'], \n",
    "                               columns = 'home_away', \n",
    "                               values = 'final_points').reset_index()\n",
    "reg_opp2.columns = ['game_id', 'away_pts', 'home_pts']\n",
    "reg_opp2['spread'] = reg_opp2['home_pts'] - reg_opp2['away_pts']\n",
    "\n",
    "reg_opp3 = reg_opp.pivot_table(index = ['game_id'], \n",
    "                               columns = 'home_away', \n",
    "                               values = 'team_abbr',\n",
    "                               aggfunc=lambda x: ' '.join(x)).reset_index()\n",
    "reg_opp3.columns = ['game_id', 'away_team', 'home_team']\n",
    "\n",
    "reg_opp4 = pd.merge(reg_opp2, reg_opp3, on = 'game_id', how = 'inner')\n",
    "final = pd.merge(reg_opp4, games, on = 'game_id', how = 'inner')\n",
    "final.head()"
   ]
  },
  {
   "cell_type": "markdown",
   "metadata": {},
   "source": [
    "## Explore the Point Spread (Label)"
   ]
  },
  {
   "cell_type": "code",
   "execution_count": 157,
   "metadata": {},
   "outputs": [
    {
     "data": {
      "text/plain": [
       "Text(0.5, 1.0, 'Distribution of Home Team Point Spread')"
      ]
     },
     "execution_count": 157,
     "metadata": {},
     "output_type": "execute_result"
    },
    {
     "data": {
      "image/png": "[encoded data removed]",
      "text/plain": [
       "<Figure size 432x288 with 1 Axes>"
      ]
     },
     "metadata": {
      "needs_background": "light"
     },
     "output_type": "display_data"
    }
   ],
   "source": [
    "sns.histplot(x = final['spread']).set_title('Distribution of Home Team Point Spread')"
   ]
  },
  {
   "cell_type": "code",
   "execution_count": 178,
   "metadata": {},
   "outputs": [
    {
     "data": {
      "text/plain": [
       "<seaborn.axisgrid.FacetGrid at 0x7fa09edb1b80>"
      ]
     },
     "execution_count": 178,
     "metadata": {},
     "output_type": "execute_result"
    },
    {
     "data": {
      "image/png": "[encoded data removed]",
      "text/plain": [
       "<Figure size 720x864 with 30 Axes>"
      ]
     },
     "metadata": {
      "needs_background": "light"
     },
     "output_type": "display_data"
    }
   ],
   "source": [
    "# spread by home team\n",
    "median_order = final.groupby('home_team').agg({'spread': 'median'}).reset_index() \\\n",
    "    .sort_values('spread', ascending = False)['home_team'].to_list()\n",
    "g = sns.FacetGrid(final, col = 'home_team', height=2, col_wrap =5, col_order = median_order)\n",
    "g.map(sns.histplot, 'spread')"
   ]
  },
  {
   "cell_type": "code",
   "execution_count": 138,
   "metadata": {},
   "outputs": [
    {
     "data": {
      "text/plain": [
       "count    6825.000000\n",
       "mean        2.503883\n",
       "std        13.802249\n",
       "min       -56.000000\n",
       "25%        -7.000000\n",
       "50%         4.000000\n",
       "75%        11.000000\n",
       "max        61.000000\n",
       "Name: spread, dtype: float64"
      ]
     },
     "execution_count": 138,
     "metadata": {},
     "output_type": "execute_result"
    }
   ],
   "source": [
    "final['spread'].describe()"
   ]
  },
  {
   "cell_type": "code",
   "execution_count": 159,
   "metadata": {},
   "outputs": [
    {
     "data": {
      "text/plain": [
       "Text(0.5, 1.0, 'Home Team Spread Averages by Game Date')"
      ]
     },
     "execution_count": 159,
     "metadata": {},
     "output_type": "execute_result"
    },
    {
     "data": {
      "image/png": "[encoded data removed]",
      "text/plain": [
       "<Figure size 432x288 with 1 Axes>"
      ]
     },
     "metadata": {
      "needs_background": "light"
     },
     "output_type": "display_data"
    }
   ],
   "source": [
    "# See if the home team spread averages has changed over the years\n",
    "spread_by_date = final.groupby('start_date').agg({'spread': 'mean'}).reset_index()\n",
    "sns.lineplot(data=spread_by_date, x=\"start_date\", y=\"spread\").set_title('Home Team Spread Averages by Game Date')"
   ]
  },
  {
   "cell_type": "markdown",
   "metadata": {},
   "source": [
    "### Develop the Baseline Model\n",
    "Consisting of the average points of the home team over their last 10 games minus the average points of the away team over their last five games"
   ]
  },
  {
   "cell_type": "code",
   "execution_count": 254,
   "metadata": {},
   "outputs": [
    {
     "data": {
      "text/html": [
       "<div>\n",
       "<style scoped>\n",
       "    .dataframe tbody tr th:only-of-type {\n",
       "        vertical-align: middle;\n",
       "    }\n",
       "\n",
       "    .dataframe tbody tr th {\n",
       "        vertical-align: top;\n",
       "    }\n",
       "\n",
       "    .dataframe thead th {\n",
       "        text-align: right;\n",
       "    }\n",
       "</style>\n",
       "<table border=\"1\" class=\"dataframe\">\n",
       "  <thead>\n",
       "    <tr style=\"text-align: right;\">\n",
       "      <th></th>\n",
       "      <th>game_id</th>\n",
       "      <th>team_id</th>\n",
       "      <th>team</th>\n",
       "      <th>team_abbr</th>\n",
       "      <th>home_away</th>\n",
       "      <th>winner</th>\n",
       "      <th>final_points</th>\n",
       "      <th>q1_points</th>\n",
       "      <th>q2_points</th>\n",
       "      <th>q3_points</th>\n",
       "      <th>q4_points</th>\n",
       "    </tr>\n",
       "  </thead>\n",
       "  <tbody>\n",
       "    <tr>\n",
       "      <th>0</th>\n",
       "      <td>400974929</td>\n",
       "      <td>3</td>\n",
       "      <td>Pelicans</td>\n",
       "      <td>NO</td>\n",
       "      <td>home</td>\n",
       "      <td>True</td>\n",
       "      <td>111</td>\n",
       "      <td>31.0</td>\n",
       "      <td>32.0</td>\n",
       "      <td>25.0</td>\n",
       "      <td>23.0</td>\n",
       "    </tr>\n",
       "    <tr>\n",
       "      <th>1</th>\n",
       "      <td>400974929</td>\n",
       "      <td>12</td>\n",
       "      <td>Clippers</td>\n",
       "      <td>LAC</td>\n",
       "      <td>away</td>\n",
       "      <td>False</td>\n",
       "      <td>103</td>\n",
       "      <td>26.0</td>\n",
       "      <td>32.0</td>\n",
       "      <td>24.0</td>\n",
       "      <td>21.0</td>\n",
       "    </tr>\n",
       "    <tr>\n",
       "      <th>2</th>\n",
       "      <td>400974928</td>\n",
       "      <td>27</td>\n",
       "      <td>Wizards</td>\n",
       "      <td>WSH</td>\n",
       "      <td>home</td>\n",
       "      <td>True</td>\n",
       "      <td>113</td>\n",
       "      <td>20.0</td>\n",
       "      <td>29.0</td>\n",
       "      <td>27.0</td>\n",
       "      <td>37.0</td>\n",
       "    </tr>\n",
       "    <tr>\n",
       "      <th>3</th>\n",
       "      <td>400974928</td>\n",
       "      <td>1</td>\n",
       "      <td>Hawks</td>\n",
       "      <td>ATL</td>\n",
       "      <td>away</td>\n",
       "      <td>False</td>\n",
       "      <td>94</td>\n",
       "      <td>19.0</td>\n",
       "      <td>23.0</td>\n",
       "      <td>25.0</td>\n",
       "      <td>27.0</td>\n",
       "    </tr>\n",
       "    <tr>\n",
       "      <th>4</th>\n",
       "      <td>400974931</td>\n",
       "      <td>10</td>\n",
       "      <td>Rockets</td>\n",
       "      <td>HOU</td>\n",
       "      <td>home</td>\n",
       "      <td>True</td>\n",
       "      <td>111</td>\n",
       "      <td>33.0</td>\n",
       "      <td>29.0</td>\n",
       "      <td>31.0</td>\n",
       "      <td>18.0</td>\n",
       "    </tr>\n",
       "  </tbody>\n",
       "</table>\n",
       "</div>"
      ],
      "text/plain": [
       "     game_id team_id      team team_abbr home_away winner final_points  \\\n",
       "0  400974929       3  Pelicans        NO      home   True          111   \n",
       "1  400974929      12  Clippers       LAC      away  False          103   \n",
       "2  400974928      27   Wizards       WSH      home   True          113   \n",
       "3  400974928       1     Hawks       ATL      away  False           94   \n",
       "4  400974931      10   Rockets       HOU      home   True          111   \n",
       "\n",
       "   q1_points  q2_points  q3_points  q4_points  \n",
       "0       31.0       32.0       25.0       23.0  \n",
       "1       26.0       32.0       24.0       21.0  \n",
       "2       20.0       29.0       27.0       37.0  \n",
       "3       19.0       23.0       25.0       27.0  \n",
       "4       33.0       29.0       31.0       18.0  "
      ]
     },
     "execution_count": 254,
     "metadata": {},
     "output_type": "execute_result"
    }
   ],
   "source": [
    "opp.head()"
   ]
  },
  {
   "cell_type": "code",
   "execution_count": 258,
   "metadata": {},
   "outputs": [
    {
     "data": {
      "text/html": [
       "<div>\n",
       "<style scoped>\n",
       "    .dataframe tbody tr th:only-of-type {\n",
       "        vertical-align: middle;\n",
       "    }\n",
       "\n",
       "    .dataframe tbody tr th {\n",
       "        vertical-align: top;\n",
       "    }\n",
       "\n",
       "    .dataframe thead th {\n",
       "        text-align: right;\n",
       "    }\n",
       "</style>\n",
       "<table border=\"1\" class=\"dataframe\">\n",
       "  <thead>\n",
       "    <tr style=\"text-align: right;\">\n",
       "      <th></th>\n",
       "      <th>game_id</th>\n",
       "      <th>away_pts</th>\n",
       "      <th>home_pts</th>\n",
       "      <th>spread</th>\n",
       "    </tr>\n",
       "  </thead>\n",
       "  <tbody>\n",
       "    <tr>\n",
       "      <th>0</th>\n",
       "      <td>400578293</td>\n",
       "      <td>84</td>\n",
       "      <td>101</td>\n",
       "      <td>17</td>\n",
       "    </tr>\n",
       "    <tr>\n",
       "      <th>1</th>\n",
       "      <td>400578294</td>\n",
       "      <td>100</td>\n",
       "      <td>101</td>\n",
       "      <td>1</td>\n",
       "    </tr>\n",
       "    <tr>\n",
       "      <th>2</th>\n",
       "      <td>400578295</td>\n",
       "      <td>108</td>\n",
       "      <td>90</td>\n",
       "      <td>-18</td>\n",
       "    </tr>\n",
       "    <tr>\n",
       "      <th>3</th>\n",
       "      <td>400578296</td>\n",
       "      <td>106</td>\n",
       "      <td>108</td>\n",
       "      <td>2</td>\n",
       "    </tr>\n",
       "    <tr>\n",
       "      <th>4</th>\n",
       "      <td>400578297</td>\n",
       "      <td>91</td>\n",
       "      <td>103</td>\n",
       "      <td>12</td>\n",
       "    </tr>\n",
       "  </tbody>\n",
       "</table>\n",
       "</div>"
      ],
      "text/plain": [
       "     game_id  away_pts  home_pts  spread\n",
       "0  400578293        84       101      17\n",
       "1  400578294       100       101       1\n",
       "2  400578295       108        90     -18\n",
       "3  400578296       106       108       2\n",
       "4  400578297        91       103      12"
      ]
     },
     "execution_count": 258,
     "metadata": {},
     "output_type": "execute_result"
    }
   ],
   "source": [
    "reg_opp2.head()"
   ]
  },
  {
   "cell_type": "code",
   "execution_count": 259,
   "metadata": {},
   "outputs": [
    {
     "data": {
      "text/html": [
       "<div>\n",
       "<style scoped>\n",
       "    .dataframe tbody tr th:only-of-type {\n",
       "        vertical-align: middle;\n",
       "    }\n",
       "\n",
       "    .dataframe tbody tr th {\n",
       "        vertical-align: top;\n",
       "    }\n",
       "\n",
       "    .dataframe thead th {\n",
       "        text-align: right;\n",
       "    }\n",
       "</style>\n",
       "<table border=\"1\" class=\"dataframe\">\n",
       "  <thead>\n",
       "    <tr style=\"text-align: right;\">\n",
       "      <th></th>\n",
       "      <th>game_id</th>\n",
       "      <th>start_date</th>\n",
       "      <th>team_abbr</th>\n",
       "      <th>final_points</th>\n",
       "      <th>last_10_avg</th>\n",
       "    </tr>\n",
       "  </thead>\n",
       "  <tbody>\n",
       "    <tr>\n",
       "      <th>5057</th>\n",
       "      <td>400578300</td>\n",
       "      <td>2014-10-29</td>\n",
       "      <td>ATL</td>\n",
       "      <td>102</td>\n",
       "      <td>NaN</td>\n",
       "    </tr>\n",
       "    <tr>\n",
       "      <th>6588</th>\n",
       "      <td>400578324</td>\n",
       "      <td>2014-11-01</td>\n",
       "      <td>ATL</td>\n",
       "      <td>102</td>\n",
       "      <td>NaN</td>\n",
       "    </tr>\n",
       "    <tr>\n",
       "      <th>10861</th>\n",
       "      <td>400578356</td>\n",
       "      <td>2014-11-06</td>\n",
       "      <td>ATL</td>\n",
       "      <td>92</td>\n",
       "      <td>NaN</td>\n",
       "    </tr>\n",
       "    <tr>\n",
       "      <th>4529</th>\n",
       "      <td>400578363</td>\n",
       "      <td>2014-11-08</td>\n",
       "      <td>ATL</td>\n",
       "      <td>119</td>\n",
       "      <td>NaN</td>\n",
       "    </tr>\n",
       "    <tr>\n",
       "      <th>8544</th>\n",
       "      <td>400578376</td>\n",
       "      <td>2014-11-09</td>\n",
       "      <td>ATL</td>\n",
       "      <td>103</td>\n",
       "      <td>NaN</td>\n",
       "    </tr>\n",
       "    <tr>\n",
       "      <th>9147</th>\n",
       "      <td>400578392</td>\n",
       "      <td>2014-11-11</td>\n",
       "      <td>ATL</td>\n",
       "      <td>91</td>\n",
       "      <td>NaN</td>\n",
       "    </tr>\n",
       "    <tr>\n",
       "      <th>13522</th>\n",
       "      <td>400578402</td>\n",
       "      <td>2014-11-13</td>\n",
       "      <td>ATL</td>\n",
       "      <td>100</td>\n",
       "      <td>NaN</td>\n",
       "    </tr>\n",
       "    <tr>\n",
       "      <th>8372</th>\n",
       "      <td>400578416</td>\n",
       "      <td>2014-11-15</td>\n",
       "      <td>ATL</td>\n",
       "      <td>114</td>\n",
       "      <td>NaN</td>\n",
       "    </tr>\n",
       "    <tr>\n",
       "      <th>2071</th>\n",
       "      <td>400578425</td>\n",
       "      <td>2014-11-16</td>\n",
       "      <td>ATL</td>\n",
       "      <td>94</td>\n",
       "      <td>NaN</td>\n",
       "    </tr>\n",
       "    <tr>\n",
       "      <th>1690</th>\n",
       "      <td>400578447</td>\n",
       "      <td>2014-11-19</td>\n",
       "      <td>ATL</td>\n",
       "      <td>109</td>\n",
       "      <td>NaN</td>\n",
       "    </tr>\n",
       "    <tr>\n",
       "      <th>7822</th>\n",
       "      <td>400578466</td>\n",
       "      <td>2014-11-22</td>\n",
       "      <td>ATL</td>\n",
       "      <td>99</td>\n",
       "      <td>102.6</td>\n",
       "    </tr>\n",
       "    <tr>\n",
       "      <th>7549</th>\n",
       "      <td>400578497</td>\n",
       "      <td>2014-11-26</td>\n",
       "      <td>ATL</td>\n",
       "      <td>106</td>\n",
       "      <td>102.3</td>\n",
       "    </tr>\n",
       "    <tr>\n",
       "      <th>2580</th>\n",
       "      <td>400578507</td>\n",
       "      <td>2014-11-27</td>\n",
       "      <td>ATL</td>\n",
       "      <td>115</td>\n",
       "      <td>102.7</td>\n",
       "    </tr>\n",
       "    <tr>\n",
       "      <th>3084</th>\n",
       "      <td>400578517</td>\n",
       "      <td>2014-11-29</td>\n",
       "      <td>ATL</td>\n",
       "      <td>100</td>\n",
       "      <td>105.0</td>\n",
       "    </tr>\n",
       "    <tr>\n",
       "      <th>12134</th>\n",
       "      <td>400578529</td>\n",
       "      <td>2014-11-30</td>\n",
       "      <td>ATL</td>\n",
       "      <td>105</td>\n",
       "      <td>103.1</td>\n",
       "    </tr>\n",
       "  </tbody>\n",
       "</table>\n",
       "</div>"
      ],
      "text/plain": [
       "         game_id start_date team_abbr  final_points  last_10_avg\n",
       "5057   400578300 2014-10-29       ATL           102          NaN\n",
       "6588   400578324 2014-11-01       ATL           102          NaN\n",
       "10861  400578356 2014-11-06       ATL            92          NaN\n",
       "4529   400578363 2014-11-08       ATL           119          NaN\n",
       "8544   400578376 2014-11-09       ATL           103          NaN\n",
       "9147   400578392 2014-11-11       ATL            91          NaN\n",
       "13522  400578402 2014-11-13       ATL           100          NaN\n",
       "8372   400578416 2014-11-15       ATL           114          NaN\n",
       "2071   400578425 2014-11-16       ATL            94          NaN\n",
       "1690   400578447 2014-11-19       ATL           109          NaN\n",
       "7822   400578466 2014-11-22       ATL            99        102.6\n",
       "7549   400578497 2014-11-26       ATL           106        102.3\n",
       "2580   400578507 2014-11-27       ATL           115        102.7\n",
       "3084   400578517 2014-11-29       ATL           100        105.0\n",
       "12134  400578529 2014-11-30       ATL           105        103.1"
      ]
     },
     "execution_count": 259,
     "metadata": {},
     "output_type": "execute_result"
    }
   ],
   "source": [
    "# sort each team by game date\n",
    "team_date = pd.merge(reg_games[['game_id', 'start_date']],\n",
    "                     reg_opp[['game_id', 'team_abbr', 'final_points']],\n",
    "                     on = 'game_id', how = 'inner')\n",
    "\n",
    "team_date = team_date.sort_values(['team_abbr', 'start_date'])\n",
    "\n",
    "# get the average for the five previous games\n",
    "x = 10\n",
    "team_date[f'last_{x}_avg'] = team_date.groupby(['team_abbr']) \\\n",
    "    .shift(1).rolling(x).final_points.mean()\n",
    "\n",
    "team_date.head(15)"
   ]
  },
  {
   "cell_type": "code",
   "execution_count": 265,
   "metadata": {},
   "outputs": [],
   "source": [
    "# merge home teams to final to form baseline table\n",
    "bl_final = pd.merge(final[['game_id', 'home_team', 'away_team', 'home_pts', 'away_pts', 'spread', 'start_date', 'season_type']], \n",
    "                    team_date[['game_id', 'team_abbr', f'last_{x}_avg']], \n",
    "                    left_on = ['game_id', 'home_team'], \n",
    "                    right_on = ['game_id', 'team_abbr'],\n",
    "                    how = 'inner') \\\n",
    "    .drop('team_abbr', 1) \\\n",
    "    .rename({f'last_{x}_avg': f'last_{x}_home'}, axis=1)\n",
    "\n",
    "bl_final = pd.merge(bl_final, \n",
    "                    team_date[['game_id', 'team_abbr', f'last_{x}_avg']], \n",
    "                    left_on = ['game_id', 'away_team'], \n",
    "                    right_on = ['game_id', 'team_abbr'],\n",
    "                    how = 'inner') \\\n",
    "    .drop('team_abbr', 1) \\\n",
    "    .rename({f'last_{x}_avg': f'last_{x}_away'}, axis=1)\n",
    "\n",
    "bl_final['pred'] = bl_final[f'last_{x}_home'] - bl_final[f'last_{x}_away']\n",
    "bl_final['diff'] = bl_final['pred'] - bl_final['spread']"
   ]
  },
  {
   "cell_type": "code",
   "execution_count": 266,
   "metadata": {},
   "outputs": [
    {
     "data": {
      "text/plain": [
       "11.377771111444428"
      ]
     },
     "execution_count": 266,
     "metadata": {},
     "output_type": "execute_result"
    }
   ],
   "source": [
    "bl_mae = np.mean(np.abs(bl_final['diff']))\n",
    "bl_mae"
   ]
  },
  {
   "cell_type": "code",
   "execution_count": 267,
   "metadata": {},
   "outputs": [
    {
     "data": {
      "text/plain": [
       "Text(0.5, 1.0, 'Distribution of Baseline Spread Errors')"
      ]
     },
     "execution_count": 267,
     "metadata": {},
     "output_type": "execute_result"
    },
    {
     "data": {
      "image/png": "[encoded data removed]",
      "text/plain": [
       "<Figure size 432x288 with 1 Axes>"
      ]
     },
     "metadata": {
      "needs_background": "light"
     },
     "output_type": "display_data"
    }
   ],
   "source": [
    "sns.histplot(x = bl_final['diff']).set_title('Distribution of Baseline Spread Errors')"
   ]
  },
  {
   "cell_type": "code",
   "execution_count": 268,
   "metadata": {},
   "outputs": [
    {
     "data": {
      "text/plain": [
       "<seaborn.axisgrid.FacetGrid at 0x7fa09a0874f0>"
      ]
     },
     "execution_count": 268,
     "metadata": {},
     "output_type": "execute_result"
    },
    {
     "data": {
      "image/png": "[encoded data removed]",
      "text/plain": [
       "<Figure size 360x360 with 1 Axes>"
      ]
     },
     "metadata": {
      "needs_background": "light"
     },
     "output_type": "display_data"
    }
   ],
   "source": [
    "sns.relplot(x = bl_final['spread'], y = bl_final['pred']) \\\n",
    "    .set(title = 'Relationship between Baseline Predictions and Actual Spread \\nfor Regular Season Games')"
   ]
  },
  {
   "cell_type": "code",
   "execution_count": 270,
   "metadata": {},
   "outputs": [
    {
     "data": {
      "text/html": [
       "<div>\n",
       "<style scoped>\n",
       "    .dataframe tbody tr th:only-of-type {\n",
       "        vertical-align: middle;\n",
       "    }\n",
       "\n",
       "    .dataframe tbody tr th {\n",
       "        vertical-align: top;\n",
       "    }\n",
       "\n",
       "    .dataframe thead th {\n",
       "        text-align: right;\n",
       "    }\n",
       "</style>\n",
       "<table border=\"1\" class=\"dataframe\">\n",
       "  <thead>\n",
       "    <tr style=\"text-align: right;\">\n",
       "      <th></th>\n",
       "      <th>game_id</th>\n",
       "      <th>home_team</th>\n",
       "      <th>away_team</th>\n",
       "      <th>home_pts</th>\n",
       "      <th>away_pts</th>\n",
       "      <th>spread</th>\n",
       "      <th>start_date</th>\n",
       "      <th>season_type</th>\n",
       "      <th>last_10_home</th>\n",
       "      <th>last_10_away</th>\n",
       "      <th>pred</th>\n",
       "      <th>diff</th>\n",
       "    </tr>\n",
       "  </thead>\n",
       "  <tbody>\n",
       "    <tr>\n",
       "      <th>6821</th>\n",
       "      <td>401224790</td>\n",
       "      <td>HOU</td>\n",
       "      <td>PHI</td>\n",
       "      <td>96</td>\n",
       "      <td>134</td>\n",
       "      <td>-38</td>\n",
       "      <td>2020-08-15</td>\n",
       "      <td>2</td>\n",
       "      <td>114.8</td>\n",
       "      <td>119.0</td>\n",
       "      <td>-4.2</td>\n",
       "      <td>33.8</td>\n",
       "    </tr>\n",
       "    <tr>\n",
       "      <th>6824</th>\n",
       "      <td>401224793</td>\n",
       "      <td>TOR</td>\n",
       "      <td>DEN</td>\n",
       "      <td>117</td>\n",
       "      <td>109</td>\n",
       "      <td>8</td>\n",
       "      <td>2020-08-14</td>\n",
       "      <td>2</td>\n",
       "      <td>111.0</td>\n",
       "      <td>114.7</td>\n",
       "      <td>-3.7</td>\n",
       "      <td>-11.7</td>\n",
       "    </tr>\n",
       "    <tr>\n",
       "      <th>6823</th>\n",
       "      <td>401224792</td>\n",
       "      <td>LAC</td>\n",
       "      <td>OKC</td>\n",
       "      <td>107</td>\n",
       "      <td>103</td>\n",
       "      <td>4</td>\n",
       "      <td>2020-08-14</td>\n",
       "      <td>2</td>\n",
       "      <td>118.8</td>\n",
       "      <td>110.3</td>\n",
       "      <td>8.5</td>\n",
       "      <td>4.5</td>\n",
       "    </tr>\n",
       "    <tr>\n",
       "      <th>6822</th>\n",
       "      <td>401224791</td>\n",
       "      <td>IND</td>\n",
       "      <td>MIA</td>\n",
       "      <td>109</td>\n",
       "      <td>92</td>\n",
       "      <td>17</td>\n",
       "      <td>2020-08-14</td>\n",
       "      <td>2</td>\n",
       "      <td>110.4</td>\n",
       "      <td>109.9</td>\n",
       "      <td>0.5</td>\n",
       "      <td>-16.5</td>\n",
       "    </tr>\n",
       "    <tr>\n",
       "      <th>6818</th>\n",
       "      <td>401224787</td>\n",
       "      <td>ORL</td>\n",
       "      <td>NO</td>\n",
       "      <td>133</td>\n",
       "      <td>127</td>\n",
       "      <td>6</td>\n",
       "      <td>2020-08-14</td>\n",
       "      <td>2</td>\n",
       "      <td>116.2</td>\n",
       "      <td>113.1</td>\n",
       "      <td>3.1</td>\n",
       "      <td>-2.9</td>\n",
       "    </tr>\n",
       "  </tbody>\n",
       "</table>\n",
       "</div>"
      ],
      "text/plain": [
       "        game_id home_team away_team  home_pts  away_pts  spread start_date  \\\n",
       "6821  401224790       HOU       PHI        96       134     -38 2020-08-15   \n",
       "6824  401224793       TOR       DEN       117       109       8 2020-08-14   \n",
       "6823  401224792       LAC       OKC       107       103       4 2020-08-14   \n",
       "6822  401224791       IND       MIA       109        92      17 2020-08-14   \n",
       "6818  401224787       ORL        NO       133       127       6 2020-08-14   \n",
       "\n",
       "     season_type  last_10_home  last_10_away  pred  diff  \n",
       "6821           2         114.8         119.0  -4.2  33.8  \n",
       "6824           2         111.0         114.7  -3.7 -11.7  \n",
       "6823           2         118.8         110.3   8.5   4.5  \n",
       "6822           2         110.4         109.9   0.5 -16.5  \n",
       "6818           2         116.2         113.1   3.1  -2.9  "
      ]
     },
     "execution_count": 270,
     "metadata": {},
     "output_type": "execute_result"
    }
   ],
   "source": [
    "bl_final.sort_values('start_date', ascending = False).head()"
   ]
  },
  {
   "cell_type": "code",
   "execution_count": null,
   "metadata": {},
   "outputs": [],
   "source": []
  }
 ],
 "metadata": {
  "kernelspec": {
   "display_name": "Python 3",
   "language": "python",
   "name": "python3"
  },
  "language_info": {
   "codemirror_mode": {
    "name": "ipython",
    "version": 3
   },
   "file_extension": ".py",
   "mimetype": "text/x-python",
   "name": "python",
   "nbconvert_exporter": "python",
   "pygments_lexer": "ipython3",
   "version": "3.8.5"
  }
 },
 "nbformat": 4,
 "nbformat_minor": 4
}
